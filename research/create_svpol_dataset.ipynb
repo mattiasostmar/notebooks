{
 "cells": [
  {
   "cell_type": "code",
   "execution_count": 2,
   "metadata": {
    "collapsed": true
   },
   "outputs": [],
   "source": [
    "import os,json, regex, pickle"
   ]
  },
  {
   "cell_type": "code",
   "execution_count": 3,
   "metadata": {
    "collapsed": false
   },
   "outputs": [],
   "source": [
    "inpath = \"/Users/mos/twitterdb/2015_totalUsertweets/\""
   ]
  },
  {
   "cell_type": "code",
   "execution_count": 24,
   "metadata": {
    "collapsed": false
   },
   "outputs": [],
   "source": [
    "tweetfiles = []\n",
    "for root,dirs,files in os.walk(inpath):\n",
    "    for file in files:\n",
    "        if file.endswith(\".txt\"):\n",
    "            tweetfiles.append(file)"
   ]
  },
  {
   "cell_type": "code",
   "execution_count": 25,
   "metadata": {
    "collapsed": true
   },
   "outputs": [],
   "source": [
    "pickle.dump(tweetfiles, open(inpath + \"tweetfile_names.pickle\",\"wb\"))"
   ]
  },
  {
   "cell_type": "code",
   "execution_count": 6,
   "metadata": {
    "collapsed": true
   },
   "outputs": [],
   "source": [
    "tweetfiles = pickle.load(open(inpath + \"tweetfile_names.pickle\",\"rb\"))"
   ]
  },
  {
   "cell_type": "code",
   "execution_count": 7,
   "metadata": {
    "collapsed": false
   },
   "outputs": [
    {
     "data": {
      "text/plain": [
       "464105"
      ]
     },
     "execution_count": 7,
     "metadata": {},
     "output_type": "execute_result"
    }
   ],
   "source": [
    "len(tweetfiles)"
   ]
  },
  {
   "cell_type": "code",
   "execution_count": 8,
   "metadata": {
    "collapsed": false
   },
   "outputs": [
    {
     "data": {
      "text/plain": [
       "['000000000001110.txt',\n",
       " '000120o.txt',\n",
       " '0002Ebb.txt',\n",
       " '0006alhe.txt',\n",
       " '000CAT000.txt']"
      ]
     },
     "execution_count": 8,
     "metadata": {},
     "output_type": "execute_result"
    }
   ],
   "source": [
    "tweetfiles[:5]"
   ]
  },
  {
   "cell_type": "code",
   "execution_count": 10,
   "metadata": {
    "collapsed": false
   },
   "outputs": [
    {
     "name": "stdout",
     "output_type": "stream",
     "text": [
      "2015-07-15 20:04:05 621409924791320576 RT @Lisamattsson: @magiskemanfred Mycket bättre 😂👌 http://t.co/nTpU8zkdGJ\n",
      "\n",
      "2015-07-17 21:31:54 622156798917742592 @Lisamattsson  tänk dig att jag hade vart där också😂\n",
      "\n",
      "2015-08-06 14:16:13 629294910760423425 👸\n",
      "\n",
      "2014-12-17 11:18:18 545176154173632512 @Lisamattsson @JHernvall ja era pedofiler\n",
      "\n",
      "2014-12-23 20:12:34 547486695130927104 Bara jag som blir som en 3 åring på julafton ?\n",
      "\n"
     ]
    }
   ],
   "source": [
    "testfile = open(inpath + tweetfiles[50]).readlines()\n",
    "count = 5\n",
    "for line in testfile:\n",
    "    if count > 0:\n",
    "        print(line)\n",
    "        count -= 1\n",
    "    else:\n",
    "        break"
   ]
  },
  {
   "cell_type": "code",
   "execution_count": 11,
   "metadata": {
    "collapsed": false
   },
   "outputs": [
    {
     "data": {
      "text/plain": [
       "'2015-07-15 20:04:05'"
      ]
     },
     "execution_count": 11,
     "metadata": {},
     "output_type": "execute_result"
    }
   ],
   "source": [
    "svpol_pattern = regex.compile(r\"#svpol\")\n",
    "line_pattern = regex.compile(r\"(?P<datetime>\\d{4}-\\d{2}-\\d{2} \\d{2}:\\d{2}:\\d{2}) (?P<id>\\d{8,20}) (?P<text>.*)\") #id_str hack, don't know length\n",
    "\n",
    "testline = \"2015-07-15 20:04:05 621409924791320576 RT @Lisamattsson: @magiskemanfred Mycket bättre 😂👌 http://t.co/nTpU8zkdGJ\"\n",
    "testline2 = \"\"\n",
    "match_obj = line_pattern.search(testline)\n",
    "match_obj.groups()\n",
    "match_obj.group(\"datetime\")"
   ]
  },
  {
   "cell_type": "code",
   "execution_count": null,
   "metadata": {
    "collapsed": false
   },
   "outputs": [],
   "source": [
    "outfile = open(\"/Users/mos/twitterdb/svpolTweets.txt\",\"w\")\n",
    "for filename in filenames:\n",
    "    # store screen_name\n",
    "    screen_name = filename[:-4]\n",
    "    \n",
    "    # Open file\n",
    "    try:\n",
    "        f = open(inpath + filename)\n",
    "    except IOError as e:\n",
    "        print(\"Couldn't open file {}:\".format(filename) + e)\n",
    "    except Exception as e:\n",
    "        print(\"Unknown error when opening file {}:\".format(filename) + e)\n",
    "        \n",
    "    for line in f:\n",
    "        matches = line_pattern.search(line)\n",
    "        try:\n",
    "            i = matches.group(\"id\")\n",
    "            s = screen_name\n",
    "            dt = matches.group(\"datetime\")\n",
    "            t = matches.group(\"text\")       \n",
    "            if svpol_pattern.search(t):\n",
    "                outfile.write(\"{} {} {} {}\\n\".format(i,dt,s,t))\n",
    "            else:\n",
    "                continue\n",
    "        except AttributeError as e:\n",
    "            #print(\"File {} seems to be empty/bad format: {}\\n{}\".format(filename, e, line), end=\"\\r\")\n",
    "            pass"
   ]
  },
  {
   "cell_type": "code",
   "execution_count": 18,
   "metadata": {
    "collapsed": false
   },
   "outputs": [
    {
     "data": {
      "text/plain": [
       "'000120o.txt'"
      ]
     },
     "execution_count": 18,
     "metadata": {},
     "output_type": "execute_result"
    }
   ],
   "source": [
    "filenames[1]"
   ]
  },
  {
   "cell_type": "code",
   "execution_count": null,
   "metadata": {
    "collapsed": true
   },
   "outputs": [],
   "source": [
    "svpol_tweets = open(/Users/mos/twitterdb/svpolTweets.txt\",\"r\")"
   ]
  },
  {
   "cell_type": "markdown",
   "metadata": {},
   "source": [
    "### Create mention graph (mg) for further analysis"
   ]
  },
  {
   "cell_type": "code",
   "execution_count": null,
   "metadata": {
    "collapsed": true
   },
   "outputs": [],
   "source": [
    "import networkx as nx\n",
    "mg = nx.DiGraph()"
   ]
  }
 ],
 "metadata": {
  "kernelspec": {
   "display_name": "Python 3",
   "language": "python",
   "name": "python3"
  },
  "language_info": {
   "codemirror_mode": {
    "name": "ipython",
    "version": 3
   },
   "file_extension": ".py",
   "mimetype": "text/x-python",
   "name": "python",
   "nbconvert_exporter": "python",
   "pygments_lexer": "ipython3",
   "version": "3.4.4"
  }
 },
 "nbformat": 4,
 "nbformat_minor": 0
}
