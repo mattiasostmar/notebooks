{
 "cells": [
  {
   "cell_type": "code",
   "execution_count": 462,
   "metadata": {
    "collapsed": true
   },
   "outputs": [],
   "source": [
    "import re"
   ]
  },
  {
   "cell_type": "code",
   "execution_count": 463,
   "metadata": {
    "collapsed": true
   },
   "outputs": [],
   "source": [
    "f = open(\"./Utvalda_dokument-294-2016-02-23.txt\")\n",
    "text = f.read()"
   ]
  },
  {
   "cell_type": "markdown",
   "metadata": {},
   "source": [
    "# Approach 1: parsea ut rubrik, metadata, brödtext för sig"
   ]
  },
  {
   "cell_type": "code",
   "execution_count": 436,
   "metadata": {
    "collapsed": false
   },
   "outputs": [],
   "source": [
    "#article_pattern = re.compile(r\"(?P<headline>[ \\w,\\:\\!\\?\\.]+?)\\n\\-{78,}\\n(?P<source>[ \\w]+?), (?P<date>\\d+\\-\\d+\\-\\d+)(?P<author>[\\n \\w\\.\\@]+?)(?P<section>Sektion:[ \\w\\,\\d:\\.]+)\\n(?P<mediatype>[ \\w\\.]+)\\n\\n(?P<body>.*?)\\={78,}\",re.DOTALL)\n",
    "article_pattern = re.compile(r\"(?P<headline>[ \\w,\\:\\gi!\\?\\.]+?)\\n\\-{78,}\\n(?P<meta>.*?)\\n\\n(?P<body>.*?)\\n\\n\\={78,}\",re.DOTALL)"
   ]
  },
  {
   "cell_type": "code",
   "execution_count": 464,
   "metadata": {
    "collapsed": false
   },
   "outputs": [
    {
     "name": "stdout",
     "output_type": "stream",
     "text": [
      "<_sre.SRE_Match object; span=(20919, 25797), match='Lycka till, Mr Cameron\\n------------------------->\n"
     ]
    }
   ],
   "source": [
    "print(article_pattern.search(text))"
   ]
  },
  {
   "cell_type": "code",
   "execution_count": 465,
   "metadata": {
    "collapsed": false
   },
   "outputs": [],
   "source": [
    "match = article_pattern.search(text)"
   ]
  },
  {
   "cell_type": "code",
   "execution_count": 466,
   "metadata": {
    "collapsed": false
   },
   "outputs": [
    {
     "data": {
      "text/plain": [
       "'Lycka till, Mr Cameron'"
      ]
     },
     "execution_count": 466,
     "metadata": {},
     "output_type": "execute_result"
    }
   ],
   "source": [
    "match.group(\"headline\")"
   ]
  },
  {
   "cell_type": "code",
   "execution_count": 467,
   "metadata": {
    "collapsed": false
   },
   "outputs": [
    {
     "data": {
      "text/plain": [
       "'Dagens Nyheter, 2016-02-22\\nSektion: Ledare Sida 4, del 1\\nPublicerat i print. '"
      ]
     },
     "execution_count": 467,
     "metadata": {},
     "output_type": "execute_result"
    }
   ],
   "source": [
    "match.group(\"meta\")"
   ]
  },
  {
   "cell_type": "code",
   "execution_count": 468,
   "metadata": {
    "collapsed": false
   },
   "outputs": [
    {
     "data": {
      "text/plain": [
       "'Brexit.\\n\\nStartskottet har gått. I helgen spikade premiärminister David Cameron datumet för \\nden utlovade folkomröstningen om Storbritanniens EU-medlemskap. Den 23 juni avgör \\nbritterna sin - och det europeiska samarbetets - framtid. Den uppgörelse om nya \\nmedlemsvillkor som EU:s stats- och regeringschefer nådde på fredagskvällen öppnar \\nenligt Cameron dörren till den bästa av två världar: Storbritannien kommer \\natt sitta i \"förarsätet på världens största marknad\". Samtidigt slipper landet räddningspaketen \\noch euroeländet. Britterna har säkrat en bekväm position i unionen. \\nBäst att vi sitter still i båten, slog Cameron fast. Avtalet är fjärran från \\nden \"långtgående och väsentliga\" reform som premiärministern gick in för att tvinga \\nfram. Torypartiets ursprungliga, och orimliga, ultimatum har gradvis reducerats \\ntill en räcka krav som de andra länderna motvilligt kan tillmötesgå. De fyra \\nunderrubrikerna på dagordningen har gällt omförhandling av EU:s inflytande över \\nbrittisk ekonomi, den politiska maktdelningen, Europas konkurrenskraft och invandringen. \\nVad gäller regleringen av Londons finanssektor lyckades de brittiska \\nförhandlarna med mer än vad som var väntat. Cameron återvände hem med löften om \\nen framtida ändring av fördraget. Det sattes också på pränt att britterna ska slippa \\nställa upp på strävan efter en \"allt fastare sammanslutning mellan de europeiska \\nfolken\", en högtidlig fras om samarbetets mål som har hängt med i EU:s olika \\nfördrag. Några långtgående vetomöjligheter mot ny lagstiftning var aldrig aktuella, \\näven om ickemedlemmar av valutasamarbetet framöver ska kunna förhala beslut \\ni eurokretsen. Det blir ett slags säkerhetsventil för länder med en egen valuta. \\nFör många britter är samarbetet dock synonymt med invandring; över 2 miljoner \\nEU-medborgare arbetar eller studerar i Storbritannien. De känsligaste delarna \\nav förhandlingarna har rört just migrationen. Till exempel ville premiärministern \\nkunna dra in barnbidraget för de EU-gäster som har barnen kvar i hemlandet. Kravet \\nfick rött ljus, men enligt fredagens kompromiss ska bidragsnivån kunna anpassas \\nefter prisnivån i hemlandet. Polacker drabbas, men principen om fri rörlighet \\nhotas knappast. Undantagen som införs även inom andra system är mer tvivelaktiga. \\nEn \"nödbroms\" byggs in så att olika skatteförmåner ska gälla britter och övriga \\nEU-medborgare i landet. Risken finns att det underkänns av EU-domstolen. Likabehandling \\när tänkt att gälla på Europas gemensamma arbetsmarknad, och det är \\nen god princip. På plussidan står ändå att uppgörelsen sammantaget är tillräckligt \\ngenerös för att premiärministern ska kunna inleda en kampanj för fortsatt medlemskap. \\nAlla skeptiker har naturligtvis inte övertygats. Att Londons populäre borgmästare \\nBoris Johnson och Camerons justitieminister Michael Gove i helgen meddelade \\natt de kommer att kampanja för Brexit var dock ett avsevärt bakslag. Enligt \\nen sammanvägning av de senaste opinionsmätningarna är det dött lopp mellan ja- \\noch nejsidan. Stämningsläget och förtroendet för premiärministern kommer att fälla \\navgörandet. Ett utträde vore en smärre katastrof för både Storbritannien och \\nEU. Britterna skulle ta ett stort steg ut i det okända, dessutom i en tid av djup \\npolitisk oro i Europa. Vad ett stympat samarbete skulle bestå av är osäkert. \\nDet är svårt att se hur EU skulle klara av att fixa en flyktingkris och parera \\nryska aggressioner - och att samtidigt arrangera en brittisk skilsmässa. På sikt \\nskulle inte minst Sverige missgynnas. Storbritannien hör, tillsammans med Nederländerna \\noch Danmark, till dem som oftast röstar som den svenska regeringen. Mycket \\nav makten balanseras nu mellan Berlin, Paris och London. Stryk London ur ekvationen, \\nlägg till exempelvis Rom, och EU blir till något annat. Stockholm skulle \\nbli en ännu mer perifer faktor. Oavsett vilket utslag folkomröstningen ger har \\nfrågan om de brittiska villkoren utlöst en existentiell kris. Hur ska en union \\nmed 28 medlemsländer egentligen styras? Vilka olika, parallella spår ska EU ha? \\nVad är den riktiga kärnan i samarbetet? Anden är ur flaskan, på gott och ont. Europa \\nkommer att behöva hitta tillbaka till tanken om fred och gemensamt välstånd. \\nBäst vore det om britterna var med på resan. Så lycka till, Mr Cameron. DN 22/2 \\n2016 \"Oavsett vilket utslag folkomröstningen ger har frågan om de brittiska villkoren \\nutlöst en existentiell kris.\"\\n\\nBildtext: Behövs i Europa.© Dagens Nyheter eller artikelförfattaren. eller artikelförfattaren. Utgivare: Peter Wolodarski. Databasens namn: Peter Wolodarski / Dagens Nyheter / retriever-info.com'"
      ]
     },
     "execution_count": 468,
     "metadata": {},
     "output_type": "execute_result"
    }
   ],
   "source": [
    "match.group(\"body\")"
   ]
  },
  {
   "cell_type": "code",
   "execution_count": 469,
   "metadata": {
    "collapsed": true
   },
   "outputs": [],
   "source": [
    "article_matches = article_pattern.findall(text)"
   ]
  },
  {
   "cell_type": "markdown",
   "metadata": {},
   "source": [
    "Och så kollar vi så vår brytpunkt på rubrik-text följt av 78 st ------- ger rätt antal artiklar (294)"
   ]
  },
  {
   "cell_type": "code",
   "execution_count": 472,
   "metadata": {
    "collapsed": false
   },
   "outputs": [
    {
     "data": {
      "text/plain": [
       "250"
      ]
     },
     "execution_count": 472,
     "metadata": {},
     "output_type": "execute_result"
    }
   ],
   "source": [
    "len(article_matches)"
   ]
  },
  {
   "cell_type": "markdown",
   "metadata": {},
   "source": [
    "**Men det gör den ju inte!**\n",
    "\n",
    "Varför?\n",
    "\n",
    "Jo, en närmare granskning av Retriever-filen visar att de bryter långa rubriker *efter* strecken, så de dubbla \\n vi letar efter fungerar inte som avslutning. "
   ]
  },
  {
   "cell_type": "raw",
   "metadata": {},
   "source": [
    "Exempel:\n",
    "\n",
    "Malin Ullgren: Sällan har en hastigt övergiven humanism varit lika\n",
    "------------------------------------------------------------------------------\n",
    "...övertydlig. Kommentar. Malin Ullgren svarar Ann-Charlotte Marteus om åsiktskorridoren\n",
    "\n",
    "Dagens Nyheter, 2016-02-05\n",
    "Malin Ullgren malin.ullgren@dn.se\n",
    "Sektion: GENERAL Sida 7, del 2\n",
    "Publicerat i print. \n",
    "\n",
    "I lördags arrangerades en demonstration i centrala Stockholm, med bland andra nazister. \n",
    "Målet med helgens demonstrationer var, enligt historikern Heléne Lööw, att \n",
    "mobilisera för högerextremismens sak."
   ]
  },
  {
   "cell_type": "markdown",
   "metadata": {},
   "source": [
    "Det är precis såna inkonsistenser i utdatan en inte vill ha från sina data-leverantörer. På detta vis blir inte metadatan enkel att parsea ut, vilket den faktiskt inte var innan heller eftersom det inte alltid finns ett namn och mejladress i metadatan till artikeln. Om det *inte* finns så tas hela raden bort, istället för att vara kvar, men med nån text såsom \"NaN\" som gör att det går att konsekvent parsea ut varje metadata fält för sig.\n",
    "\n",
    "Fy skäms Retriever!"
   ]
  },
  {
   "cell_type": "markdown",
   "metadata": {},
   "source": [
    "# Approach 2: Vi splittar på artikel-slut (\"===...\") istället"
   ]
  },
  {
   "cell_type": "code",
   "execution_count": 473,
   "metadata": {
    "collapsed": true
   },
   "outputs": [],
   "source": [
    "articles = re.split(\"\\={78,}\",text)"
   ]
  },
  {
   "cell_type": "code",
   "execution_count": 474,
   "metadata": {
    "collapsed": false
   },
   "outputs": [
    {
     "data": {
      "text/plain": [
       "294"
      ]
     },
     "execution_count": 474,
     "metadata": {},
     "output_type": "execute_result"
    }
   ],
   "source": [
    "len(articles)"
   ]
  },
  {
   "cell_type": "markdown",
   "metadata": {},
   "source": [
    "Men varje fil inleds med en listning av alla träffar som vi nu alltså får med i den första artikeln.\n",
    "Vi får processa den artikeln separat.\n",
    "\n",
    "Vi kan inte splitta den på -----------------, för då tappar vi den första rubriken som ligger *över* den linjen.\n",
    "\n",
    "En granskning av textfilen visar att den första artikeln slutar med 3 st \\n efter ett datum. Vi håller tummarna att detta är konsekvent i Retrievers txt-filer och splittar på den. Om de inte är konsekventa ens med detta så är det nog bäst att prata med dem om att de fixar till sitt utformat så det blir maskinläsbart ordentligt."
   ]
  },
  {
   "cell_type": "code",
   "execution_count": 459,
   "metadata": {
    "collapsed": false
   },
   "outputs": [],
   "source": [
    "first_article_split = re.split(\"\\d+\\-\\d+\\-\\d+\\n\\n\\n\", articles[0])"
   ]
  },
  {
   "cell_type": "code",
   "execution_count": 460,
   "metadata": {
    "collapsed": false
   },
   "outputs": [
    {
     "data": {
      "text/plain": [
       "2"
      ]
     },
     "execution_count": 460,
     "metadata": {},
     "output_type": "execute_result"
    }
   ],
   "source": [
    "len(first_article_split)"
   ]
  },
  {
   "cell_type": "markdown",
   "metadata": {},
   "source": [
    "Den andra delen, med index 1 är den vi vill ha:"
   ]
  },
  {
   "cell_type": "code",
   "execution_count": 478,
   "metadata": {
    "collapsed": true
   },
   "outputs": [],
   "source": [
    "first_article_clean = first_article_split[1] "
   ]
  },
  {
   "cell_type": "code",
   "execution_count": 481,
   "metadata": {
    "collapsed": false
   },
   "outputs": [
    {
     "data": {
      "text/plain": [
       "'Lycka till, Mr Cameron\\n-----------------------------------------------------------------------------'"
      ]
     },
     "execution_count": 481,
     "metadata": {},
     "output_type": "execute_result"
    }
   ],
   "source": [
    "# vi kollar för säkerhets skull att det blivit rätt med rubriken\n",
    "first_article_clean[:100]"
   ]
  },
  {
   "cell_type": "markdown",
   "metadata": {},
   "source": [
    "Så om vi sätter ihop dessa process-steg får vi alltså:"
   ]
  },
  {
   "cell_type": "code",
   "execution_count": 482,
   "metadata": {
    "collapsed": false
   },
   "outputs": [],
   "source": [
    "articles = re.split(\"\\={78,}\",text)\n",
    "first_article_split = re.split(\"\\d+\\-\\d+\\-\\d+\\n\\n\\n\", articles[0])\n",
    "first_article_clean = first_article_split[1] \n",
    "\n",
    "# ta bort den första dåliga artikeln från listan\n",
    "del articles[0]\n",
    "# sätt dit den tvättade artikeln på slutet (default) av listan\n",
    "articles.append(first_article_good)"
   ]
  },
  {
   "cell_type": "markdown",
   "metadata": {},
   "source": [
    "Vill en ta bort bildtexter och copyrigth info också skulle du kunna pröva med att köra regular expression på varje artikel för sig.\n",
    "\n",
    "Dvs först parsea ut artiklarna.\n",
    "\n",
    "Därefter loopa igenom listan med artiklar och leta efter mönster så är ungefär:\n",
    "    \n",
    "```\n",
    "(Bildtext: \\w+|@ \\w+)\n",
    "```\n",
    "\n",
    "Det kan vara ett rimligt nästa steg efter att ni ändrar i funktionen som processar varje fil i ert script. Det är mindre komplext (och därför bättre) att inte använda NLTK och tokenizering om det inte verkligen behövs, så öpnna respektive fil för läsning som vanligt med\n",
    "\n",
    "```\n",
    "f = open(path + filename),\"r\",encoding=\"utf-8\")\n",
    "text = f.read()\n",
    "```\n",
    "\n",
    "och därefter stoppa in regex-koden ovan.\n"
   ]
  },
  {
   "cell_type": "code",
   "execution_count": null,
   "metadata": {
    "collapsed": true
   },
   "outputs": [],
   "source": []
  }
 ],
 "metadata": {
  "kernelspec": {
   "display_name": "Python 3",
   "language": "python",
   "name": "python3"
  },
  "language_info": {
   "codemirror_mode": {
    "name": "ipython",
    "version": 3
   },
   "file_extension": ".py",
   "mimetype": "text/x-python",
   "name": "python",
   "nbconvert_exporter": "python",
   "pygments_lexer": "ipython3",
   "version": "3.4.4"
  }
 },
 "nbformat": 4,
 "nbformat_minor": 0
}
