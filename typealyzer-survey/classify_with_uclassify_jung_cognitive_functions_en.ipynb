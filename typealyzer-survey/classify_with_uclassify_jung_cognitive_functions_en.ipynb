{
 "cells": [
  {
   "cell_type": "code",
   "execution_count": 311,
   "metadata": {},
   "outputs": [],
   "source": [
    "import pandas as pd\n",
    "import os\n",
    "import requests\n",
    "import numpy as np\n",
    "import operator\n",
    "from sklearn.metrics import classification_report\n",
    "from sklearn.metrics import confusion_matrix\n",
    "import seaborn as sns"
   ]
  },
  {
   "cell_type": "code",
   "execution_count": 138,
   "metadata": {},
   "outputs": [],
   "source": [
    "df_pickle_path = \"../../typealyzer-dataset/pickles/dataframe_survey_2018-01-23_enriched.pickle\""
   ]
  },
  {
   "cell_type": "code",
   "execution_count": 318,
   "metadata": {},
   "outputs": [
    {
     "data": {
      "text/html": [
       "<div>\n",
       "<style scoped>\n",
       "    .dataframe tbody tr th:only-of-type {\n",
       "        vertical-align: middle;\n",
       "    }\n",
       "\n",
       "    .dataframe tbody tr th {\n",
       "        vertical-align: top;\n",
       "    }\n",
       "\n",
       "    .dataframe thead th {\n",
       "        text-align: right;\n",
       "    }\n",
       "</style>\n",
       "<table border=\"1\" class=\"dataframe\">\n",
       "  <thead>\n",
       "    <tr style=\"text-align: right;\">\n",
       "      <th></th>\n",
       "      <th>url</th>\n",
       "      <th>typealyzer</th>\n",
       "      <th>actual</th>\n",
       "      <th>e</th>\n",
       "      <th>s</th>\n",
       "      <th>t</th>\n",
       "      <th>sntf_s</th>\n",
       "      <th>sntf_n</th>\n",
       "      <th>sntf_t</th>\n",
       "      <th>sntf_f</th>\n",
       "      <th>...</th>\n",
       "      <th>percept</th>\n",
       "      <th>auxverb</th>\n",
       "      <th>article</th>\n",
       "      <th>leisure</th>\n",
       "      <th>achieve</th>\n",
       "      <th>sad</th>\n",
       "      <th>anger</th>\n",
       "      <th>discrep</th>\n",
       "      <th>negate</th>\n",
       "      <th>quant</th>\n",
       "    </tr>\n",
       "  </thead>\n",
       "  <tbody>\n",
       "    <tr>\n",
       "      <th>0</th>\n",
       "      <td>http://jonkagstrom.com</td>\n",
       "      <td>ISTP</td>\n",
       "      <td>INFJ</td>\n",
       "      <td>0.420758</td>\n",
       "      <td>0.651605</td>\n",
       "      <td>0.652214</td>\n",
       "      <td>0.512359</td>\n",
       "      <td>0.274234</td>\n",
       "      <td>0.134025</td>\n",
       "      <td>0.079382</td>\n",
       "      <td>...</td>\n",
       "      <td>0.040162</td>\n",
       "      <td>0.125614</td>\n",
       "      <td>0.395001</td>\n",
       "      <td>0.021577</td>\n",
       "      <td>0.020508</td>\n",
       "      <td>0.003632</td>\n",
       "      <td>0.007904</td>\n",
       "      <td>0.012177</td>\n",
       "      <td>0.022217</td>\n",
       "      <td>0.048280</td>\n",
       "    </tr>\n",
       "    <tr>\n",
       "      <th>1</th>\n",
       "      <td>http://adropofcolour.tumblr.com</td>\n",
       "      <td>ISFP</td>\n",
       "      <td>INFJ</td>\n",
       "      <td>0.291281</td>\n",
       "      <td>0.787844</td>\n",
       "      <td>0.460961</td>\n",
       "      <td>0.663515</td>\n",
       "      <td>0.178565</td>\n",
       "      <td>0.069282</td>\n",
       "      <td>0.088638</td>\n",
       "      <td>...</td>\n",
       "      <td>0.036240</td>\n",
       "      <td>0.108720</td>\n",
       "      <td>0.326161</td>\n",
       "      <td>0.006795</td>\n",
       "      <td>0.023783</td>\n",
       "      <td>0.001133</td>\n",
       "      <td>0.005663</td>\n",
       "      <td>0.016988</td>\n",
       "      <td>0.041903</td>\n",
       "      <td>0.033975</td>\n",
       "    </tr>\n",
       "    <tr>\n",
       "      <th>2</th>\n",
       "      <td>http://godheadcomplex.tumblr.com</td>\n",
       "      <td>ESFP</td>\n",
       "      <td>INFP</td>\n",
       "      <td>0.883579</td>\n",
       "      <td>0.951693</td>\n",
       "      <td>0.238407</td>\n",
       "      <td>0.855921</td>\n",
       "      <td>0.046931</td>\n",
       "      <td>0.021850</td>\n",
       "      <td>0.075297</td>\n",
       "      <td>...</td>\n",
       "      <td>0.039409</td>\n",
       "      <td>0.147783</td>\n",
       "      <td>0.290640</td>\n",
       "      <td>0.014778</td>\n",
       "      <td>0.024631</td>\n",
       "      <td>0.000000</td>\n",
       "      <td>0.009852</td>\n",
       "      <td>0.014778</td>\n",
       "      <td>0.034483</td>\n",
       "      <td>0.024631</td>\n",
       "    </tr>\n",
       "    <tr>\n",
       "      <th>3</th>\n",
       "      <td>http://chaotikaeon2.tumblr.com</td>\n",
       "      <td>INTJ</td>\n",
       "      <td>INTP</td>\n",
       "      <td>0.332444</td>\n",
       "      <td>0.357863</td>\n",
       "      <td>0.591322</td>\n",
       "      <td>0.147668</td>\n",
       "      <td>0.252326</td>\n",
       "      <td>0.339831</td>\n",
       "      <td>0.260175</td>\n",
       "      <td>...</td>\n",
       "      <td>0.031524</td>\n",
       "      <td>0.084063</td>\n",
       "      <td>0.316988</td>\n",
       "      <td>0.021016</td>\n",
       "      <td>0.012259</td>\n",
       "      <td>0.000000</td>\n",
       "      <td>0.012259</td>\n",
       "      <td>0.015762</td>\n",
       "      <td>0.040280</td>\n",
       "      <td>0.029772</td>\n",
       "    </tr>\n",
       "    <tr>\n",
       "      <th>4</th>\n",
       "      <td>http://codeode.com</td>\n",
       "      <td>ESTJ</td>\n",
       "      <td>I don't know</td>\n",
       "      <td>0.556231</td>\n",
       "      <td>0.881763</td>\n",
       "      <td>0.969999</td>\n",
       "      <td>0.449375</td>\n",
       "      <td>0.065664</td>\n",
       "      <td>0.466337</td>\n",
       "      <td>0.018624</td>\n",
       "      <td>...</td>\n",
       "      <td>0.023108</td>\n",
       "      <td>0.123506</td>\n",
       "      <td>0.414343</td>\n",
       "      <td>0.023108</td>\n",
       "      <td>0.021514</td>\n",
       "      <td>0.002390</td>\n",
       "      <td>0.003984</td>\n",
       "      <td>0.009562</td>\n",
       "      <td>0.019124</td>\n",
       "      <td>0.035857</td>\n",
       "    </tr>\n",
       "    <tr>\n",
       "      <th>5</th>\n",
       "      <td>http://perpetually-in-transit.blogspot.com</td>\n",
       "      <td>ESFP</td>\n",
       "      <td>ENFJ</td>\n",
       "      <td>0.944394</td>\n",
       "      <td>0.943192</td>\n",
       "      <td>0.105527</td>\n",
       "      <td>0.778825</td>\n",
       "      <td>0.051134</td>\n",
       "      <td>0.017299</td>\n",
       "      <td>0.152742</td>\n",
       "      <td>...</td>\n",
       "      <td>0.040807</td>\n",
       "      <td>0.114916</td>\n",
       "      <td>0.415572</td>\n",
       "      <td>0.025797</td>\n",
       "      <td>0.018293</td>\n",
       "      <td>0.003283</td>\n",
       "      <td>0.006098</td>\n",
       "      <td>0.012195</td>\n",
       "      <td>0.017824</td>\n",
       "      <td>0.031895</td>\n",
       "    </tr>\n",
       "    <tr>\n",
       "      <th>6</th>\n",
       "      <td>http://www.chocolateannie.blogspot.com</td>\n",
       "      <td>ESFP</td>\n",
       "      <td>ENFP</td>\n",
       "      <td>0.816134</td>\n",
       "      <td>0.860018</td>\n",
       "      <td>0.051798</td>\n",
       "      <td>0.536634</td>\n",
       "      <td>0.090553</td>\n",
       "      <td>0.018246</td>\n",
       "      <td>0.354567</td>\n",
       "      <td>...</td>\n",
       "      <td>0.049020</td>\n",
       "      <td>0.173203</td>\n",
       "      <td>0.359477</td>\n",
       "      <td>0.039216</td>\n",
       "      <td>0.016340</td>\n",
       "      <td>0.003268</td>\n",
       "      <td>0.000000</td>\n",
       "      <td>0.032680</td>\n",
       "      <td>0.027778</td>\n",
       "      <td>0.055556</td>\n",
       "    </tr>\n",
       "    <tr>\n",
       "      <th>7</th>\n",
       "      <td>http://www.magnusljadas.se</td>\n",
       "      <td>ISTP</td>\n",
       "      <td>INFP</td>\n",
       "      <td>0.325755</td>\n",
       "      <td>0.588240</td>\n",
       "      <td>0.771802</td>\n",
       "      <td>0.449846</td>\n",
       "      <td>0.313740</td>\n",
       "      <td>0.177039</td>\n",
       "      <td>0.059374</td>\n",
       "      <td>...</td>\n",
       "      <td>0.040271</td>\n",
       "      <td>0.110745</td>\n",
       "      <td>0.329283</td>\n",
       "      <td>0.015449</td>\n",
       "      <td>0.021524</td>\n",
       "      <td>0.006422</td>\n",
       "      <td>0.011283</td>\n",
       "      <td>0.009373</td>\n",
       "      <td>0.024996</td>\n",
       "      <td>0.034369</td>\n",
       "    </tr>\n",
       "    <tr>\n",
       "      <th>8</th>\n",
       "      <td>http://www.medimoon.com</td>\n",
       "      <td>ISTJ</td>\n",
       "      <td>I don't know</td>\n",
       "      <td>0.455204</td>\n",
       "      <td>0.564765</td>\n",
       "      <td>0.993508</td>\n",
       "      <td>0.232624</td>\n",
       "      <td>0.179134</td>\n",
       "      <td>0.583645</td>\n",
       "      <td>0.004596</td>\n",
       "      <td>...</td>\n",
       "      <td>0.011331</td>\n",
       "      <td>0.138810</td>\n",
       "      <td>0.382436</td>\n",
       "      <td>0.008499</td>\n",
       "      <td>0.025496</td>\n",
       "      <td>0.000000</td>\n",
       "      <td>0.005666</td>\n",
       "      <td>0.002833</td>\n",
       "      <td>0.036827</td>\n",
       "      <td>0.019830</td>\n",
       "    </tr>\n",
       "    <tr>\n",
       "      <th>9</th>\n",
       "      <td>http://webfloss.com</td>\n",
       "      <td>ESTJ</td>\n",
       "      <td>INTJ</td>\n",
       "      <td>0.567693</td>\n",
       "      <td>0.995600</td>\n",
       "      <td>0.965974</td>\n",
       "      <td>0.183111</td>\n",
       "      <td>0.001682</td>\n",
       "      <td>0.784172</td>\n",
       "      <td>0.031035</td>\n",
       "      <td>...</td>\n",
       "      <td>0.027397</td>\n",
       "      <td>0.047945</td>\n",
       "      <td>0.294521</td>\n",
       "      <td>0.013699</td>\n",
       "      <td>0.006849</td>\n",
       "      <td>0.000000</td>\n",
       "      <td>0.000000</td>\n",
       "      <td>0.013699</td>\n",
       "      <td>0.006849</td>\n",
       "      <td>0.000000</td>\n",
       "    </tr>\n",
       "  </tbody>\n",
       "</table>\n",
       "<p>10 rows × 114 columns</p>\n",
       "</div>"
      ],
      "text/plain": [
       "                                          url typealyzer        actual  \\\n",
       "0                      http://jonkagstrom.com       ISTP          INFJ   \n",
       "1             http://adropofcolour.tumblr.com       ISFP          INFJ   \n",
       "2            http://godheadcomplex.tumblr.com       ESFP          INFP   \n",
       "3              http://chaotikaeon2.tumblr.com       INTJ          INTP   \n",
       "4                          http://codeode.com       ESTJ  I don't know   \n",
       "5  http://perpetually-in-transit.blogspot.com       ESFP          ENFJ   \n",
       "6      http://www.chocolateannie.blogspot.com       ESFP          ENFP   \n",
       "7                  http://www.magnusljadas.se       ISTP          INFP   \n",
       "8                     http://www.medimoon.com       ISTJ  I don't know   \n",
       "9                         http://webfloss.com       ESTJ          INTJ   \n",
       "\n",
       "          e         s         t    sntf_s    sntf_n    sntf_t    sntf_f  \\\n",
       "0  0.420758  0.651605  0.652214  0.512359  0.274234  0.134025  0.079382   \n",
       "1  0.291281  0.787844  0.460961  0.663515  0.178565  0.069282  0.088638   \n",
       "2  0.883579  0.951693  0.238407  0.855921  0.046931  0.021850  0.075297   \n",
       "3  0.332444  0.357863  0.591322  0.147668  0.252326  0.339831  0.260175   \n",
       "4  0.556231  0.881763  0.969999  0.449375  0.065664  0.466337  0.018624   \n",
       "5  0.944394  0.943192  0.105527  0.778825  0.051134  0.017299  0.152742   \n",
       "6  0.816134  0.860018  0.051798  0.536634  0.090553  0.018246  0.354567   \n",
       "7  0.325755  0.588240  0.771802  0.449846  0.313740  0.177039  0.059374   \n",
       "8  0.455204  0.564765  0.993508  0.232624  0.179134  0.583645  0.004596   \n",
       "9  0.567693  0.995600  0.965974  0.183111  0.001682  0.784172  0.031035   \n",
       "\n",
       "     ...      percept   auxverb   article   leisure   achieve       sad  \\\n",
       "0    ...     0.040162  0.125614  0.395001  0.021577  0.020508  0.003632   \n",
       "1    ...     0.036240  0.108720  0.326161  0.006795  0.023783  0.001133   \n",
       "2    ...     0.039409  0.147783  0.290640  0.014778  0.024631  0.000000   \n",
       "3    ...     0.031524  0.084063  0.316988  0.021016  0.012259  0.000000   \n",
       "4    ...     0.023108  0.123506  0.414343  0.023108  0.021514  0.002390   \n",
       "5    ...     0.040807  0.114916  0.415572  0.025797  0.018293  0.003283   \n",
       "6    ...     0.049020  0.173203  0.359477  0.039216  0.016340  0.003268   \n",
       "7    ...     0.040271  0.110745  0.329283  0.015449  0.021524  0.006422   \n",
       "8    ...     0.011331  0.138810  0.382436  0.008499  0.025496  0.000000   \n",
       "9    ...     0.027397  0.047945  0.294521  0.013699  0.006849  0.000000   \n",
       "\n",
       "      anger   discrep    negate     quant  \n",
       "0  0.007904  0.012177  0.022217  0.048280  \n",
       "1  0.005663  0.016988  0.041903  0.033975  \n",
       "2  0.009852  0.014778  0.034483  0.024631  \n",
       "3  0.012259  0.015762  0.040280  0.029772  \n",
       "4  0.003984  0.009562  0.019124  0.035857  \n",
       "5  0.006098  0.012195  0.017824  0.031895  \n",
       "6  0.000000  0.032680  0.027778  0.055556  \n",
       "7  0.011283  0.009373  0.024996  0.034369  \n",
       "8  0.005666  0.002833  0.036827  0.019830  \n",
       "9  0.000000  0.013699  0.006849  0.000000  \n",
       "\n",
       "[10 rows x 114 columns]"
      ]
     },
     "execution_count": 318,
     "metadata": {},
     "output_type": "execute_result"
    }
   ],
   "source": [
    "indata = pd.read_pickle(df_pickle_path)\n",
    "indata.head(10)"
   ]
  },
  {
   "cell_type": "code",
   "execution_count": 140,
   "metadata": {},
   "outputs": [
    {
     "data": {
      "text/plain": [
       "0"
      ]
     },
     "execution_count": 140,
     "metadata": {},
     "output_type": "execute_result"
    }
   ],
   "source": [
    "len(indata[pd.isnull(indata[\"tokens\"])])"
   ]
  },
  {
   "cell_type": "code",
   "execution_count": 317,
   "metadata": {},
   "outputs": [
    {
     "data": {
      "text/html": [
       "<div>\n",
       "<style scoped>\n",
       "    .dataframe tbody tr th:only-of-type {\n",
       "        vertical-align: middle;\n",
       "    }\n",
       "\n",
       "    .dataframe tbody tr th {\n",
       "        vertical-align: top;\n",
       "    }\n",
       "\n",
       "    .dataframe thead th {\n",
       "        text-align: right;\n",
       "    }\n",
       "</style>\n",
       "<table border=\"1\" class=\"dataframe\">\n",
       "  <thead>\n",
       "    <tr style=\"text-align: right;\">\n",
       "      <th></th>\n",
       "      <th>ix</th>\n",
       "      <th>text</th>\n",
       "      <th>base_function</th>\n",
       "      <th>directed_function</th>\n",
       "    </tr>\n",
       "  </thead>\n",
       "  <tbody>\n",
       "  </tbody>\n",
       "</table>\n",
       "</div>"
      ],
      "text/plain": [
       "Empty DataFrame\n",
       "Columns: [ix, text, base_function, directed_function]\n",
       "Index: []"
      ]
     },
     "execution_count": 317,
     "metadata": {},
     "output_type": "execute_result"
    }
   ],
   "source": [
    "indata[pd.isnull(indata.base_function)]"
   ]
  },
  {
   "cell_type": "markdown",
   "metadata": {},
   "source": [
    "# Inspect original data function distributions"
   ]
  },
  {
   "cell_type": "code",
   "execution_count": 142,
   "metadata": {},
   "outputs": [
    {
     "data": {
      "text/plain": [
       "{'f': 562.2211350293542,\n",
       " 'n': 586.8517534537726,\n",
       " 's': 541.6055971363488,\n",
       " 't': 589.1853771898462}"
      ]
     },
     "execution_count": 142,
     "metadata": {},
     "output_type": "execute_result"
    }
   ],
   "source": [
    "s_series = indata[indata.is_s == 1][\"tokens\"]\n",
    "n_series = indata[indata.is_n == 1][\"tokens\"]\n",
    "t_series = indata[indata.is_t == 1][\"tokens\"]\n",
    "f_series = indata[indata.is_f == 1][\"tokens\"]\n",
    "\n",
    "avg_tkns = {\n",
    "    \"s\":s_series.mean(),\n",
    "    \"n\":n_series.mean(),\n",
    "    \"t\":t_series.mean(),\n",
    "    \"f\":f_series.mean()\n",
    "}\n",
    "avg_tkns"
   ]
  },
  {
   "cell_type": "code",
   "execution_count": 143,
   "metadata": {},
   "outputs": [
    {
     "data": {
      "text/plain": [
       "n    11292\n",
       "f     7154\n",
       "t     5594\n",
       "s     3073\n",
       "Name: func, dtype: int64"
      ]
     },
     "execution_count": 143,
     "metadata": {},
     "output_type": "execute_result"
    }
   ],
   "source": [
    "indata.func.value_counts()"
   ]
  },
  {
   "cell_type": "markdown",
   "metadata": {},
   "source": [
    "# Sample equal size text chunks for training and evaluation data\n",
    "Since the smallest subset (\"s\") contains 3073 texts (see above), I cut each class into 3000 observations.\n",
    "See: [Pandas sample()](https://pandas.pydata.org/pandas-docs/stable/generated/pandas.DataFrame.sample.html)"
   ]
  },
  {
   "cell_type": "code",
   "execution_count": 144,
   "metadata": {},
   "outputs": [],
   "source": [
    "# order: s,n,t,f\n",
    "samples = pd.concat([\n",
    "            indata[indata.is_s == 1].sample(3000)[[\"text\",\"tokens\",\"func\",\"funcatt\"]],\n",
    "            indata[indata.is_n == 1].sample(3000)[[\"text\",\"tokens\",\"func\",\"funcatt\"]],\n",
    "            indata[indata.is_t == 1].sample(3000)[[\"text\",\"tokens\",\"func\",\"funcatt\"]],\n",
    "            indata[indata.is_f == 1].sample(3000)[[\"text\",\"tokens\",\"func\",\"funcatt\"]]\n",
    "            ])"
   ]
  },
  {
   "cell_type": "code",
   "execution_count": 145,
   "metadata": {},
   "outputs": [
    {
     "data": {
      "text/html": [
       "<div>\n",
       "<style scoped>\n",
       "    .dataframe tbody tr th:only-of-type {\n",
       "        vertical-align: middle;\n",
       "    }\n",
       "\n",
       "    .dataframe tbody tr th {\n",
       "        vertical-align: top;\n",
       "    }\n",
       "\n",
       "    .dataframe thead th {\n",
       "        text-align: right;\n",
       "    }\n",
       "</style>\n",
       "<table border=\"1\" class=\"dataframe\">\n",
       "  <thead>\n",
       "    <tr style=\"text-align: right;\">\n",
       "      <th></th>\n",
       "      <th>text</th>\n",
       "      <th>tokens</th>\n",
       "      <th>func</th>\n",
       "      <th>funcatt</th>\n",
       "    </tr>\n",
       "  </thead>\n",
       "  <tbody>\n",
       "    <tr>\n",
       "      <th>4789</th>\n",
       "      <td>Oh Wait, I Am In Love About Me     Ask     RSS...</td>\n",
       "      <td>294</td>\n",
       "      <td>s</td>\n",
       "      <td>si</td>\n",
       "    </tr>\n",
       "    <tr>\n",
       "      <th>2449</th>\n",
       "      <td>Finding my way out of the abyss. Finding my wa...</td>\n",
       "      <td>155</td>\n",
       "      <td>s</td>\n",
       "      <td>si</td>\n",
       "    </tr>\n",
       "    <tr>\n",
       "      <th>17702</th>\n",
       "      <td>wat the fuck home / about / main shut up!!! FU...</td>\n",
       "      <td>106</td>\n",
       "      <td>s</td>\n",
       "      <td>si</td>\n",
       "    </tr>\n",
       "  </tbody>\n",
       "</table>\n",
       "</div>"
      ],
      "text/plain": [
       "                                                    text  tokens func funcatt\n",
       "4789   Oh Wait, I Am In Love About Me     Ask     RSS...     294    s      si\n",
       "2449   Finding my way out of the abyss. Finding my wa...     155    s      si\n",
       "17702  wat the fuck home / about / main shut up!!! FU...     106    s      si"
      ]
     },
     "execution_count": 145,
     "metadata": {},
     "output_type": "execute_result"
    }
   ],
   "source": [
    "samples.head(3)"
   ]
  },
  {
   "cell_type": "code",
   "execution_count": 146,
   "metadata": {},
   "outputs": [
    {
     "data": {
      "text/plain": [
       "n    3000\n",
       "s    3000\n",
       "t    3000\n",
       "f    3000\n",
       "Name: func, dtype: int64"
      ]
     },
     "execution_count": 146,
     "metadata": {},
     "output_type": "execute_result"
    }
   ],
   "source": [
    "samples.func.value_counts()"
   ]
  },
  {
   "cell_type": "code",
   "execution_count": 147,
   "metadata": {},
   "outputs": [],
   "source": [
    "samples.to_pickle(\"jung_functions_samples_n3000.pickle\")"
   ]
  },
  {
   "cell_type": "markdown",
   "metadata": {},
   "source": [
    "# Setup uClassify classifer and prepare training and evaluation datasets\n",
    "The variable `os.environ[\"UCLASSIFY_WRITE\"]` is created by adding a line to e.g. `~/.profile`:\n",
    "\n",
    "`export UCLASSIFY_WRITE = \"<your_uclassify_write_key>\"`"
   ]
  },
  {
   "cell_type": "code",
   "execution_count": 148,
   "metadata": {},
   "outputs": [
    {
     "name": "stdout",
     "output_type": "stream",
     "text": [
      "name: f, response: b''\n"
     ]
    }
   ],
   "source": [
    "def setup_jung_functions_en_classes():\n",
    "    \"\"\"The classifier is already created manually at https://uclassify.com/manage/classifiers/Jung-Cognitive-Functions-En/.\n",
    "    \"\"\"\n",
    "    for name in [\"s\",\"n\",\"t\",\"f\"]:\n",
    "        data = {\"key\":os.environ[\"UCLASSIFY_WRITE\"],\"className\":name}\n",
    "        header = {\"Content-Type\": \"application/json\",\n",
    "                  \"Authorization\": \"Token \" + os.environ[\"UCLASSIFY_WRITE\"]}\n",
    "\n",
    "        response = requests.post('https://api.uclassify.com/v1/me/Jung-Cognitive-Functions-En/addClass', \n",
    "                        json = data,\n",
    "                        headers = header)\n",
    "    return print(\"name: {}, response: {}\".format(name, response.content))\n",
    "\n",
    "setup_jung_functions_en_classes()"
   ]
  },
  {
   "cell_type": "code",
   "execution_count": 149,
   "metadata": {},
   "outputs": [
    {
     "data": {
      "text/html": [
       "<div>\n",
       "<style scoped>\n",
       "    .dataframe tbody tr th:only-of-type {\n",
       "        vertical-align: middle;\n",
       "    }\n",
       "\n",
       "    .dataframe tbody tr th {\n",
       "        vertical-align: top;\n",
       "    }\n",
       "\n",
       "    .dataframe thead th {\n",
       "        text-align: right;\n",
       "    }\n",
       "</style>\n",
       "<table border=\"1\" class=\"dataframe\">\n",
       "  <thead>\n",
       "    <tr style=\"text-align: right;\">\n",
       "      <th></th>\n",
       "      <th>text</th>\n",
       "      <th>tokens</th>\n",
       "      <th>func</th>\n",
       "      <th>funcatt</th>\n",
       "      <th>training_set</th>\n",
       "    </tr>\n",
       "  </thead>\n",
       "  <tbody>\n",
       "    <tr>\n",
       "      <th>4789</th>\n",
       "      <td>Oh Wait, I Am In Love About Me     Ask     RSS...</td>\n",
       "      <td>294</td>\n",
       "      <td>s</td>\n",
       "      <td>si</td>\n",
       "      <td>0</td>\n",
       "    </tr>\n",
       "    <tr>\n",
       "      <th>2449</th>\n",
       "      <td>Finding my way out of the abyss. Finding my wa...</td>\n",
       "      <td>155</td>\n",
       "      <td>s</td>\n",
       "      <td>si</td>\n",
       "      <td>0</td>\n",
       "    </tr>\n",
       "    <tr>\n",
       "      <th>17702</th>\n",
       "      <td>wat the fuck home / about / main shut up!!! FU...</td>\n",
       "      <td>106</td>\n",
       "      <td>s</td>\n",
       "      <td>si</td>\n",
       "      <td>0</td>\n",
       "    </tr>\n",
       "  </tbody>\n",
       "</table>\n",
       "</div>"
      ],
      "text/plain": [
       "                                                    text  tokens func funcatt  \\\n",
       "4789   Oh Wait, I Am In Love About Me     Ask     RSS...     294    s      si   \n",
       "2449   Finding my way out of the abyss. Finding my wa...     155    s      si   \n",
       "17702  wat the fuck home / about / main shut up!!! FU...     106    s      si   \n",
       "\n",
       "       training_set  \n",
       "4789              0  \n",
       "2449              0  \n",
       "17702             0  "
      ]
     },
     "execution_count": 149,
     "metadata": {},
     "output_type": "execute_result"
    }
   ],
   "source": [
    "# prepare column to keep track of what's been used for training\n",
    "zeros = np.zeros(len(samples))\n",
    "samples[\"training_set\"] = zeros\n",
    "samples[\"training_set\"] = samples.training_set.astype(\"int\")\n",
    "samples.head(3)"
   ]
  },
  {
   "cell_type": "markdown",
   "metadata": {},
   "source": [
    "Split samples into train and eval subsets."
   ]
  },
  {
   "cell_type": "code",
   "execution_count": 150,
   "metadata": {},
   "outputs": [
    {
     "data": {
      "text/html": [
       "<div>\n",
       "<style scoped>\n",
       "    .dataframe tbody tr th:only-of-type {\n",
       "        vertical-align: middle;\n",
       "    }\n",
       "\n",
       "    .dataframe tbody tr th {\n",
       "        vertical-align: top;\n",
       "    }\n",
       "\n",
       "    .dataframe thead th {\n",
       "        text-align: right;\n",
       "    }\n",
       "</style>\n",
       "<table border=\"1\" class=\"dataframe\">\n",
       "  <thead>\n",
       "    <tr style=\"text-align: right;\">\n",
       "      <th></th>\n",
       "      <th>text</th>\n",
       "      <th>tokens</th>\n",
       "      <th>func</th>\n",
       "      <th>funcatt</th>\n",
       "      <th>training_set</th>\n",
       "    </tr>\n",
       "  </thead>\n",
       "  <tbody>\n",
       "    <tr>\n",
       "      <th>4789</th>\n",
       "      <td>Oh Wait, I Am In Love About Me     Ask     RSS...</td>\n",
       "      <td>294</td>\n",
       "      <td>s</td>\n",
       "      <td>si</td>\n",
       "      <td>0</td>\n",
       "    </tr>\n",
       "    <tr>\n",
       "      <th>2449</th>\n",
       "      <td>Finding my way out of the abyss. Finding my wa...</td>\n",
       "      <td>155</td>\n",
       "      <td>s</td>\n",
       "      <td>si</td>\n",
       "      <td>0</td>\n",
       "    </tr>\n",
       "    <tr>\n",
       "      <th>17702</th>\n",
       "      <td>wat the fuck home / about / main shut up!!! FU...</td>\n",
       "      <td>106</td>\n",
       "      <td>s</td>\n",
       "      <td>si</td>\n",
       "      <td>0</td>\n",
       "    </tr>\n",
       "    <tr>\n",
       "      <th>16724</th>\n",
       "      <td>hit counter A Little Bit of Everything Sticks ...</td>\n",
       "      <td>464</td>\n",
       "      <td>s</td>\n",
       "      <td>se</td>\n",
       "      <td>1</td>\n",
       "    </tr>\n",
       "    <tr>\n",
       "      <th>24966</th>\n",
       "      <td>Drifting at the Roche Limit 1.5M ratings 277k ...</td>\n",
       "      <td>1425</td>\n",
       "      <td>s</td>\n",
       "      <td>se</td>\n",
       "      <td>1</td>\n",
       "    </tr>\n",
       "    <tr>\n",
       "      <th>14544</th>\n",
       "      <td>Prince of Time princessloon --&gt; princessloon :...</td>\n",
       "      <td>422</td>\n",
       "      <td>s</td>\n",
       "      <td>se</td>\n",
       "      <td>1</td>\n",
       "    </tr>\n",
       "    <tr>\n",
       "      <th>2657</th>\n",
       "      <td>Hipnecks Hipnecks Sunday, September 18, 2011 J...</td>\n",
       "      <td>100</td>\n",
       "      <td>s</td>\n",
       "      <td>si</td>\n",
       "      <td>0</td>\n",
       "    </tr>\n",
       "    <tr>\n",
       "      <th>25365</th>\n",
       "      <td>https://www.tumblr.com/themes/by/leentheme htt...</td>\n",
       "      <td>1189</td>\n",
       "      <td>s</td>\n",
       "      <td>si</td>\n",
       "      <td>0</td>\n",
       "    </tr>\n",
       "    <tr>\n",
       "      <th>6332</th>\n",
       "      <td>Life is about eating, sleeping, and taking bat...</td>\n",
       "      <td>475</td>\n",
       "      <td>s</td>\n",
       "      <td>si</td>\n",
       "      <td>1</td>\n",
       "    </tr>\n",
       "    <tr>\n",
       "      <th>8570</th>\n",
       "      <td>art, fanart and bad puns art, fanart and bad p...</td>\n",
       "      <td>131</td>\n",
       "      <td>s</td>\n",
       "      <td>si</td>\n",
       "      <td>1</td>\n",
       "    </tr>\n",
       "    <tr>\n",
       "      <th>20976</th>\n",
       "      <td>Lillyosawr home facebook archive ask me random...</td>\n",
       "      <td>73</td>\n",
       "      <td>s</td>\n",
       "      <td>si</td>\n",
       "      <td>0</td>\n",
       "    </tr>\n",
       "    <tr>\n",
       "      <th>17609</th>\n",
       "      <td>Everyone You Know Everyone You Know 11 8 / 201...</td>\n",
       "      <td>622</td>\n",
       "      <td>s</td>\n",
       "      <td>si</td>\n",
       "      <td>0</td>\n",
       "    </tr>\n",
       "    <tr>\n",
       "      <th>12347</th>\n",
       "      <td>previously kazuma-chan-san Message Hey! Please...</td>\n",
       "      <td>493</td>\n",
       "      <td>s</td>\n",
       "      <td>se</td>\n",
       "      <td>1</td>\n",
       "    </tr>\n",
       "    <tr>\n",
       "      <th>7023</th>\n",
       "      <td>The Tumbling Pethor Follow on Tumblr Thy Queri...</td>\n",
       "      <td>861</td>\n",
       "      <td>s</td>\n",
       "      <td>se</td>\n",
       "      <td>1</td>\n",
       "    </tr>\n",
       "    <tr>\n",
       "      <th>1388</th>\n",
       "      <td>Update Your Browser | Facebook Facebook logo E...</td>\n",
       "      <td>93</td>\n",
       "      <td>s</td>\n",
       "      <td>si</td>\n",
       "      <td>1</td>\n",
       "    </tr>\n",
       "  </tbody>\n",
       "</table>\n",
       "</div>"
      ],
      "text/plain": [
       "                                                    text  tokens func funcatt  \\\n",
       "4789   Oh Wait, I Am In Love About Me     Ask     RSS...     294    s      si   \n",
       "2449   Finding my way out of the abyss. Finding my wa...     155    s      si   \n",
       "17702  wat the fuck home / about / main shut up!!! FU...     106    s      si   \n",
       "16724  hit counter A Little Bit of Everything Sticks ...     464    s      se   \n",
       "24966  Drifting at the Roche Limit 1.5M ratings 277k ...    1425    s      se   \n",
       "14544  Prince of Time princessloon --> princessloon :...     422    s      se   \n",
       "2657   Hipnecks Hipnecks Sunday, September 18, 2011 J...     100    s      si   \n",
       "25365  https://www.tumblr.com/themes/by/leentheme htt...    1189    s      si   \n",
       "6332   Life is about eating, sleeping, and taking bat...     475    s      si   \n",
       "8570   art, fanart and bad puns art, fanart and bad p...     131    s      si   \n",
       "20976  Lillyosawr home facebook archive ask me random...      73    s      si   \n",
       "17609  Everyone You Know Everyone You Know 11 8 / 201...     622    s      si   \n",
       "12347  previously kazuma-chan-san Message Hey! Please...     493    s      se   \n",
       "7023   The Tumbling Pethor Follow on Tumblr Thy Queri...     861    s      se   \n",
       "1388   Update Your Browser | Facebook Facebook logo E...      93    s      si   \n",
       "\n",
       "       training_set  \n",
       "4789              0  \n",
       "2449              0  \n",
       "17702             0  \n",
       "16724             1  \n",
       "24966             1  \n",
       "14544             1  \n",
       "2657              0  \n",
       "25365             0  \n",
       "6332              1  \n",
       "8570              1  \n",
       "20976             0  \n",
       "17609             0  \n",
       "12347             1  \n",
       "7023              1  \n",
       "1388              1  "
      ]
     },
     "execution_count": 150,
     "metadata": {},
     "output_type": "execute_result"
    }
   ],
   "source": [
    "traing_set_size = 2100 # e.g. 2100 is 70% of 3000 samples\n",
    "s_train = samples[samples.func == \"s\"].sample(traing_set_size).index\n",
    "n_train = samples[samples.func == \"n\"].sample(traing_set_size).index\n",
    "t_train = samples[samples.func == \"t\"].sample(traing_set_size).index\n",
    "f_train = samples[samples.func == \"f\"].sample(traing_set_size).index\n",
    "\n",
    "sn_train = s_train.union(n_train)\n",
    "tf_train = t_train.union(f_train)\n",
    "sntf_train = sn_train.union(tf_train)\n",
    "\n",
    "samples.loc[sntf_train, \"training_set\"] = 1\n",
    "samples.head(15)"
   ]
  },
  {
   "cell_type": "markdown",
   "metadata": {},
   "source": [
    "# Train uClassify.com classifier"
   ]
  },
  {
   "cell_type": "code",
   "execution_count": 151,
   "metadata": {},
   "outputs": [],
   "source": [
    "def train_jung_cognitive_functions_en_classes(name):\n",
    "    \"\"\"Presupposes that classifier is created and that setup_jung_functions_en_classes() is already run.\n",
    "    name: expects one of [\"s\",\"n\",\"t\",\"f\"]\n",
    "    \"\"\"\n",
    "    trained_ix = []\n",
    "    text_count = 1\n",
    "    for ix, row in samples.loc[(samples.func == name) & (samples.training_set == 1)].iterrows():\n",
    "        trained_ix.append(ix)\n",
    "        data = {\"texts\":[row[\"text\"]]}\n",
    "        header = {\"Content-Type\": \"application/json\",\n",
    "                 \"Authorization\": \"Token \" + os.environ[\"UCLASSIFY_WRITE\"]}\n",
    "\n",
    "        response = requests.post('https://api.uclassify.com/v1/me/Jung-Cognitive-Functions-En/' + name + \"/train\", \n",
    "                    json = data,\n",
    "                    headers = header)\n",
    "        print(\"{}:{}\".format(name, text_count))\n",
    "        text_count += 1\n",
    "    print(\"Finished training Jung Cognitive Functions.\")\n",
    "    return trained_ix"
   ]
  },
  {
   "cell_type": "markdown",
   "metadata": {},
   "source": [
    "Use the sampled texts to train each classifier class"
   ]
  },
  {
   "cell_type": "code",
   "execution_count": null,
   "metadata": {},
   "outputs": [],
   "source": [
    "sntf_trained_ix = []\n",
    "for name in [\"s\",\"n\",\"t\",\"f\"]:\n",
    "    functions_trained_ix = train_jung_cognitive_functions_en_classes(name)\n",
    "    sntf_trained_ix.append(functions_trained_ix)"
   ]
  },
  {
   "cell_type": "markdown",
   "metadata": {},
   "source": [
    "# Classify blog texts"
   ]
  },
  {
   "cell_type": "code",
   "execution_count": 206,
   "metadata": {},
   "outputs": [],
   "source": [
    "def classify_jung_cognitive_function_of_text(text):\n",
    "    \"\"\"Does what it says, pretty much.\"\"\"\n",
    "    header = {\"Content-Type\": \"application/json\",\n",
    "             \"Authorization\": \"Token \" + os.environ[\"UCLASSIFY_READ\"]}\n",
    "    data = {\"texts\":[text]} # send a one-item list for now, since we don't have a feel for sizes\n",
    "    result = requests.post(\"https://api.uclassify.com/v1/prfekt/jung-cognitive-functions-en/classify\",\n",
    "                       json = data,\n",
    "                       headers = header)\n",
    "    json_result = result.json()\n",
    "    \n",
    "    res_dict = {\"s\":0, \"n\":0, \"t\":0, \"f\":0}\n",
    "    \n",
    "    for classItem in json_result[0][\"classification\"]:\n",
    "        res_dict[classItem[\"className\"]] = classItem[\"p\"]\n",
    "    \n",
    "    sorted_dict = sorted(res_dict.items(), key=operator.itemgetter(1), reverse=True)\n",
    "    return sorted_dict"
   ]
  },
  {
   "cell_type": "code",
   "execution_count": 291,
   "metadata": {},
   "outputs": [
    {
     "data": {
      "text/html": [
       "<div>\n",
       "<style scoped>\n",
       "    .dataframe tbody tr th:only-of-type {\n",
       "        vertical-align: middle;\n",
       "    }\n",
       "\n",
       "    .dataframe tbody tr th {\n",
       "        vertical-align: top;\n",
       "    }\n",
       "\n",
       "    .dataframe thead th {\n",
       "        text-align: right;\n",
       "    }\n",
       "</style>\n",
       "<table border=\"1\" class=\"dataframe\">\n",
       "  <thead>\n",
       "    <tr style=\"text-align: right;\">\n",
       "      <th></th>\n",
       "      <th>text</th>\n",
       "      <th>tokens</th>\n",
       "      <th>func</th>\n",
       "      <th>funcatt</th>\n",
       "      <th>training_set</th>\n",
       "    </tr>\n",
       "  </thead>\n",
       "  <tbody>\n",
       "    <tr>\n",
       "      <th>4789</th>\n",
       "      <td>Oh Wait, I Am In Love About Me     Ask     RSS...</td>\n",
       "      <td>294</td>\n",
       "      <td>s</td>\n",
       "      <td>si</td>\n",
       "      <td>0</td>\n",
       "    </tr>\n",
       "    <tr>\n",
       "      <th>2449</th>\n",
       "      <td>Finding my way out of the abyss. Finding my wa...</td>\n",
       "      <td>155</td>\n",
       "      <td>s</td>\n",
       "      <td>si</td>\n",
       "      <td>0</td>\n",
       "    </tr>\n",
       "  </tbody>\n",
       "</table>\n",
       "</div>"
      ],
      "text/plain": [
       "                                                   text  tokens func funcatt  \\\n",
       "4789  Oh Wait, I Am In Love About Me     Ask     RSS...     294    s      si   \n",
       "2449  Finding my way out of the abyss. Finding my wa...     155    s      si   \n",
       "\n",
       "      training_set  \n",
       "4789             0  \n",
       "2449             0  "
      ]
     },
     "execution_count": 291,
     "metadata": {},
     "output_type": "execute_result"
    }
   ],
   "source": [
    "# prepare column to keep track of what's been used for training\n",
    "eval_set = samples[samples.training_set == 0]\n",
    "eval_set.head(2)"
   ]
  },
  {
   "cell_type": "code",
   "execution_count": 227,
   "metadata": {},
   "outputs": [
    {
     "name": "stdout",
     "output_type": "stream",
     "text": [
      "row: 3600 of 3600\r"
     ]
    }
   ],
   "source": [
    "zeros = np.zeros(len(eval_set))\n",
    "results = []\n",
    "row_cnt = 1\n",
    "for ix, row in eval_set.iterrows():\n",
    "    print(\"row: {} of {}\".format(row_cnt, len(eval_set)),end=\"\\r\")\n",
    "    res = classify_jung_cognitive_function_of_text(row[\"text\"])\n",
    "    results.append(res[0][0])\n",
    "    row_cnt += 1"
   ]
  },
  {
   "cell_type": "code",
   "execution_count": 207,
   "metadata": {},
   "outputs": [
    {
     "name": "stdout",
     "output_type": "stream",
     "text": [
      "[('n', 0.777895), ('f', 0.108428), ('t', 0.0575941), ('s', 0.0560828)]\n"
     ]
    }
   ],
   "source": [
    "# from https://wordpress.com/read/blogs/840468/posts/17785\n",
    "a_text = \"\"\" \n",
    "The high temperature today almost reached my age and I just had\n",
    "to get outside again and enjoy the east coast of Iowa. So I\n",
    "checked out any critters flying about. This cardinal perched on\n",
    "a branch and tried to figure me out.\n",
    "\n",
    "After watching her watching me I looked up to find 2 flocks of\n",
    "geese heading north. I took that as a good sign that perhaps\n",
    "winter is almost behind us and spring is getting closer.\n",
    "\n",
    "Then imagine my surprise when a huge flock of American White\n",
    "pelicans flew overhead. There were too many to count and they\n",
    "got here earlier this year. They were headed east, but hey,\n",
    "they’re here. As always, you can click on the pictures to\n",
    "enlarge them.\n",
    "\n",
    "And finally, after these huge birds were done flying over a\n",
    "bird of prey decided to take over the airspace. I believe it’s\n",
    "some sort of hawk but not sure.\n",
    "\n",
    "So I spent the day outside, missed all automated calls, and got\n",
    "to relax. I’m working on figuring out how to get the coffee pot\n",
    "to work while walking around outside. Perhaps a power inverter\n",
    "and a small cart.\n",
    "\n",
    "Some may call it wasted time, or avoiding work, but in my case\n",
    "it’s therapy. No matter my mood, when the camera is in my hand\n",
    "and a few pictures snapped I’m smiling. Having a nice day to\n",
    "take pictures is an added blessing.\n",
    "\n",
    "Enjoy our Tuesday as it has been a great one here.\n",
    "Comments are always welcome.\"\"\"\n",
    "\n",
    "res = classify_jung_cognitive_function_of_text(a_text)\n",
    "print(res)\n",
    "#for classItem in res[0][\"classification\"]:\n",
    "#    print(classItem[\"className\"], classItem[\"p\"])"
   ]
  },
  {
   "cell_type": "code",
   "execution_count": 292,
   "metadata": {},
   "outputs": [],
   "source": [
    "eval_set = pd.concat([eval_set,pd.DataFrame(results, index=eval_set.index)], axis=1, ignore_index=True)\n",
    "eval_set.columns = [\"text\",\"tokens\",\"func\",\"funcatt\",\"training_set\",\"uclassify\"]\n",
    "eval_set.head()"
   ]
  },
  {
   "cell_type": "code",
   "execution_count": 300,
   "metadata": {},
   "outputs": [
    {
     "name": "stdout",
     "output_type": "stream",
     "text": [
      "<class 'pandas.core.frame.DataFrame'>\n",
      "Int64Index: 3600 entries, 4789 to 14075\n",
      "Data columns (total 6 columns):\n",
      "text            3600 non-null object\n",
      "tokens          3600 non-null int64\n",
      "func            3600 non-null object\n",
      "funcatt         3600 non-null object\n",
      "training_set    3600 non-null int64\n",
      "uclassify       3600 non-null object\n",
      "dtypes: int64(2), object(4)\n",
      "memory usage: 196.9+ KB\n"
     ]
    }
   ],
   "source": [
    "eval_set.info()"
   ]
  },
  {
   "cell_type": "markdown",
   "metadata": {},
   "source": [
    "# Classification report"
   ]
  },
  {
   "cell_type": "code",
   "execution_count": 301,
   "metadata": {},
   "outputs": [
    {
     "name": "stdout",
     "output_type": "stream",
     "text": [
      "             precision    recall  f1-score   support\n",
      "\n",
      "          f       0.27      0.24      0.25       900\n",
      "          n       0.25      0.26      0.26       900\n",
      "          s       0.27      0.33      0.29       900\n",
      "          t       0.27      0.24      0.25       900\n",
      "\n",
      "avg / total       0.27      0.27      0.26      3600\n",
      "\n"
     ]
    }
   ],
   "source": [
    "cr = classification_report(eval_set['func'], eval_set['uclassify'])\n",
    "print(cr)"
   ]
  },
  {
   "cell_type": "code",
   "execution_count": 313,
   "metadata": {},
   "outputs": [
    {
     "data": {
      "text/html": [
       "<div>\n",
       "<style scoped>\n",
       "    .dataframe tbody tr th:only-of-type {\n",
       "        vertical-align: middle;\n",
       "    }\n",
       "\n",
       "    .dataframe tbody tr th {\n",
       "        vertical-align: top;\n",
       "    }\n",
       "\n",
       "    .dataframe thead th {\n",
       "        text-align: right;\n",
       "    }\n",
       "</style>\n",
       "<table border=\"1\" class=\"dataframe\">\n",
       "  <thead>\n",
       "    <tr style=\"text-align: right;\">\n",
       "      <th></th>\n",
       "      <th>s</th>\n",
       "      <th>f</th>\n",
       "      <th>t</th>\n",
       "      <th>n</th>\n",
       "    </tr>\n",
       "  </thead>\n",
       "  <tbody>\n",
       "    <tr>\n",
       "      <th>s</th>\n",
       "      <td>293</td>\n",
       "      <td>188</td>\n",
       "      <td>199</td>\n",
       "      <td>220</td>\n",
       "    </tr>\n",
       "    <tr>\n",
       "      <th>f</th>\n",
       "      <td>269</td>\n",
       "      <td>217</td>\n",
       "      <td>182</td>\n",
       "      <td>232</td>\n",
       "    </tr>\n",
       "    <tr>\n",
       "      <th>t</th>\n",
       "      <td>267</td>\n",
       "      <td>186</td>\n",
       "      <td>212</td>\n",
       "      <td>235</td>\n",
       "    </tr>\n",
       "    <tr>\n",
       "      <th>n</th>\n",
       "      <td>268</td>\n",
       "      <td>220</td>\n",
       "      <td>179</td>\n",
       "      <td>233</td>\n",
       "    </tr>\n",
       "  </tbody>\n",
       "</table>\n",
       "</div>"
      ],
      "text/plain": [
       "     s    f    t    n\n",
       "s  293  188  199  220\n",
       "f  269  217  182  232\n",
       "t  267  186  212  235\n",
       "n  268  220  179  233"
      ]
     },
     "execution_count": 313,
     "metadata": {},
     "output_type": "execute_result"
    }
   ],
   "source": [
    "classes=list(set(eval_set['uclassify'].values))\n",
    "cm=pd.DataFrame(confusion_matrix(eval_set['func'].values,eval_set['uclassify'].values,labels=classes))\n",
    "cm.columns=classes\n",
    "cm.index=classes\n",
    "cm"
   ]
  },
  {
   "cell_type": "code",
   "execution_count": null,
   "metadata": {},
   "outputs": [],
   "source": [
    "for ix, row in eval_set.iterrows():\n",
    "    res = classify_jung_cognitive_function_of_text(row[\"text\"])\n",
    "    eval_set.loc[ix, \"uclassify\"] = res[]"
   ]
  },
  {
   "cell_type": "code",
   "execution_count": 219,
   "metadata": {},
   "outputs": [],
   "source": [
    "eval_set = pd.concat([eval_set,pd.Series(results)], axis=1, ignore_index=True)"
   ]
  },
  {
   "cell_type": "code",
   "execution_count": 223,
   "metadata": {},
   "outputs": [
    {
     "data": {
      "text/plain": [
       "3600"
      ]
     },
     "execution_count": 223,
     "metadata": {},
     "output_type": "execute_result"
    }
   ],
   "source": [
    "len(results)"
   ]
  },
  {
   "cell_type": "code",
   "execution_count": 309,
   "metadata": {},
   "outputs": [
    {
     "data": {
      "text/plain": [
       "uclassify  func\n",
       "f          f       217\n",
       "           n       220\n",
       "           s       188\n",
       "           t       186\n",
       "n          f       232\n",
       "           n       233\n",
       "           s       220\n",
       "           t       235\n",
       "s          f       269\n",
       "           n       268\n",
       "           s       293\n",
       "           t       267\n",
       "t          f       182\n",
       "           n       179\n",
       "           s       199\n",
       "           t       212\n",
       "dtype: int64"
      ]
     },
     "execution_count": 309,
     "metadata": {},
     "output_type": "execute_result"
    }
   ],
   "source": [
    "eval_set.groupby(['uclassify','func']).size()"
   ]
  },
  {
   "cell_type": "code",
   "execution_count": 303,
   "metadata": {},
   "outputs": [],
   "source": [
    "actual = eval_set['func'].value_counts()\n",
    "predicted = eval_set['uclassify'].value_counts()\n",
    "compare = [(actual[i], predicted[i]) for i in predicted.index.values]"
   ]
  },
  {
   "cell_type": "code",
   "execution_count": 305,
   "metadata": {},
   "outputs": [
    {
     "data": {
      "text/plain": [
       "<matplotlib.axes._subplots.AxesSubplot at 0x11d3b4940>"
      ]
     },
     "execution_count": 305,
     "metadata": {},
     "output_type": "execute_result"
    },
    {
     "data": {
      "image/png": "[encoded data removed]",
      "text/plain": [
       "<matplotlib.figure.Figure at 0x11d3b4240>"
      ]
     },
     "metadata": {},
     "output_type": "display_data"
    }
   ],
   "source": [
    "cmp = pd.DataFrame(compare)\n",
    "cmp.index = predicted.index.values\n",
    "cmp.columns = ['actual', 'uclassify']\n",
    "sns.regplot(x=cmp['actual'],y=cmp['uclassify'])"
   ]
  },
  {
   "cell_type": "code",
   "execution_count": 315,
   "metadata": {},
   "outputs": [
    {
     "data": {
      "text/plain": [
       "<matplotlib.axes._subplots.AxesSubplot at 0x11d3d2cc0>"
      ]
     },
     "execution_count": 315,
     "metadata": {},
     "output_type": "execute_result"
    },
    {
     "data": {
      "image/png": "[encoded data removed]",
      "text/plain": [
       "<matplotlib.figure.Figure at 0x11d57d320>"
      ]
     },
     "metadata": {},
     "output_type": "display_data"
    }
   ],
   "source": [
    "sns.heatmap(cm, annot=False)"
   ]
  },
  {
   "cell_type": "markdown",
   "metadata": {},
   "source": [
    "# Conclusion and further reserach\n",
    "\n",
    "* Not very impressive classification results. \n",
    "\n",
    "* Since Jungs cognitive functions are really dichotomies of sensing <-> intuition and thinking <-> feeling, two new classifiers should be created to see if results improve.\n",
    "\n",
    "* Another important thing is that no pre-processing of the texts have been done. Use TF-IDF to separate out noice from relevant features?\n",
    "\n"
   ]
  },
  {
   "cell_type": "code",
   "execution_count": null,
   "metadata": {},
   "outputs": [],
   "source": []
  }
 ],
 "metadata": {
  "anaconda-cloud": {},
  "kernelspec": {
   "display_name": "Python [conda env:memeticscience]",
   "language": "python",
   "name": "conda-env-memeticscience-py"
  },
  "language_info": {
   "codemirror_mode": {
    "name": "ipython",
    "version": 3
   },
   "file_extension": ".py",
   "mimetype": "text/x-python",
   "name": "python",
   "nbconvert_exporter": "python",
   "pygments_lexer": "ipython3",
   "version": "3.5.5"
  }
 },
 "nbformat": 4,
 "nbformat_minor": 2
}
