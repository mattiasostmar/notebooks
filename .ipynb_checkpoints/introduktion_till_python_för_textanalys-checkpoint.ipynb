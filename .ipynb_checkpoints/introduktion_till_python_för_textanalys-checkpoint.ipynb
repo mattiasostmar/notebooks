{
 "cells": [
  {
   "cell_type": "markdown",
   "metadata": {},
   "source": [
    "# En praktisk introduktion till Python för forskare med exempel från textanalys.\n",
    "\n"
   ]
  },
  {
   "cell_type": "code",
   "execution_count": 2,
   "metadata": {
    "collapsed": false
   },
   "outputs": [
    {
     "data": {
      "text/html": [
       "<img src=\"./python-logo-master-v3-TM-flattened.png\"/>"
      ],
      "text/plain": [
       "<IPython.core.display.Image object>"
      ]
     },
     "execution_count": 2,
     "metadata": {},
     "output_type": "execute_result"
    }
   ],
   "source": [
    "from IPython.display import Image\n",
    "from IPython.core.display import HTML \n",
    "Image(url= \"./python-logo-master-v3-TM-flattened.png\")"
   ]
  },
  {
   "cell_type": "markdown",
   "metadata": {},
   "source": [
    "**Datum:** 2016-02-23\n",
    "\n",
    "**Författare:** Mattias Östmar (www.mattiasostmar.net)\n",
    "\n",
    "## Agenda\n",
    "\n",
    "- 25 minuter: exempel på varför börja koda som medieanalytiker\n",
    "- 60 minuter: praktisk introduktion/workshop\n",
    "- 30 minuter: diskussion och frågor\n"
   ]
  },
  {
   "cell_type": "markdown",
   "metadata": {},
   "source": [
    "\n",
    "Huvudsyftet är att kunna komma igång med den mest populära vetenskapliga Python-miljön Anaconda på den egna laptopen för egna vidare experiment. Jag kommer att visa och berätta om de grundläggande kodfärdigheter man behöver och ett bra mjukvaru-bibliotek för lite mer avancerad textanalys. Jag kommer att utgå från ett data set från Twitter från min egen amatörforskning och den som vill kan följa med i koden under lektionen genom att jag delar datan och koden via github. Följande verktyg och färdigheter kommer jag att introducera:\n",
    "Anaconda Scientific Python Distribution: ca 300 Python-bibliotek för forskare och data scientists inom alla fält\n",
    "Jupyter Notebook (f.d. iPython Notebook): webbgränssnitt för både löptext och körbar kod, mycket populärt bland forskare.\n",
    "Textsträngar i Python: en introduktion till hur Python förstår text och grundläggande metoder för att arbeta med text programmatiskt.\n",
    "TextBlob: lättanvänt verktyg för grundläggande textanalys såsom att beräkna ordfrekvenser, identifiera meningar och språkklassificering\n",
    "\n",
    "Den som vill kunna följa med behöver i förväg ladda ner och installera Miniconda med Python version 3.5 anpassad för det operativsystem man använder på http://conda.pydata.org/miniconda.html. Instruktioner för installation finns på http://conda.pydata.org/docs/install/quick.html. \n"
   ]
  },
  {
   "cell_type": "markdown",
   "metadata": {},
   "source": [
    "## Komma igång med dagens kodfiler\n",
    "1. Gå till http://www.github.com/mattiasostmar/notebooks och ladda ner zippad version av dagens notebook och datafiler\n",
    "2. Flytta den nerladdade foldern till Dokument\n",
    "3. Öppna terminalen och gå till en viss folder\n",
    "4. Starta Jupyter Notebook i foldern \n",
    "5. Starta notebook \"introduktion_till_python_för_textanalys.ipynb\"\n"
   ]
  },
  {
   "cell_type": "markdown",
   "metadata": {
    "collapsed": true
   },
   "source": [
    "# Sträng-teori"
   ]
  },
  {
   "cell_type": "code",
   "execution_count": null,
   "metadata": {
    "collapsed": true
   },
   "outputs": [],
   "source": [
    "Image(url= \"./\")"
   ]
  }
 ],
 "metadata": {
  "kernelspec": {
   "display_name": "Python 3",
   "language": "python",
   "name": "python3"
  },
  "language_info": {
   "codemirror_mode": {
    "name": "ipython",
    "version": 3
   },
   "file_extension": ".py",
   "mimetype": "text/x-python",
   "name": "python",
   "nbconvert_exporter": "python",
   "pygments_lexer": "ipython3",
   "version": "3.5.1"
  }
 },
 "nbformat": 4,
 "nbformat_minor": 0
}
